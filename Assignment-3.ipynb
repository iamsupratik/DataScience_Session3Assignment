{
 "cells": [
  {
   "cell_type": "markdown",
   "metadata": {},
   "source": [
    "1.1 Write a Python Program to implement your own myreduce() function which works exactly\n",
    "like Python's built-in function reduce()"
   ]
  },
  {
   "cell_type": "code",
   "execution_count": 8,
   "metadata": {},
   "outputs": [
    {
     "name": "stdout",
     "output_type": "stream",
     "text": [
      "8\n",
      "TypeError: reduce expected at least 2 arguments, got 1\n",
      "None\n",
      "1\n"
     ]
    }
   ],
   "source": [
    "##define the custome reduce function\n",
    "def my_reduce(anyfunc, *sequence):\n",
    "    if len(sequence) == 0:            ##handling error case\n",
    "        print(\"TypeError: reduce expected at least 2 arguments, got 1\")\n",
    "        return None\n",
    "    result = sequence[0]\n",
    "    for item in range(1, len(sequence)):\n",
    "        result = anyfunc(result, sequence[item])\n",
    "    return result\n",
    "##function defination ends \n",
    "\n",
    "##test the my_reduce function\n",
    "print(my_reduce(lambda x,y: x*y, -1, 4, -2))\n",
    "print(my_reduce(lambda x,y: x+y)) ##test error case\n",
    "print(my_reduce(lambda x,y: x+y, -1, 4, -2))\n"
   ]
  },
  {
   "cell_type": "markdown",
   "metadata": {},
   "source": [
    "1.2 Write a Python program to implement your own myfilter() function which works exactly like\n",
    "Python's built-in function filter()"
   ]
  },
  {
   "cell_type": "code",
   "execution_count": 22,
   "metadata": {},
   "outputs": [
    {
     "name": "stdout",
     "output_type": "stream",
     "text": [
      "[-5, -4, -3, -2, -1]\n"
     ]
    },
    {
     "data": {
      "text/plain": [
       "[0, 2, 4, 6, 8, 10, 12, 14, 16, 18]"
      ]
     },
     "execution_count": 22,
     "metadata": {},
     "output_type": "execute_result"
    }
   ],
   "source": [
    "##define the custome reduce function\n",
    "def my_filter(anyfunc, sequence):\n",
    "    my_list = []\n",
    "    if len(sequence) == 0:\n",
    "        print(\"TypeError: filter expected at least 2 arguments, got 1\")\n",
    "        return None\n",
    "    for item in sequence:\n",
    "        if(anyfunc(item)):\n",
    "            my_list.append(item)\n",
    "    return my_list\n",
    "##function defination ends \n",
    "\n",
    "##test the my_reduce function\n",
    "number_list = range(-5, 5)\n",
    "less_than_zero = list(my_filter(lambda x: x < 0, number_list))\n",
    "print(less_than_zero)\n",
    "lst =range(20)\n",
    "list(my_filter(lambda x: x%2==0,lst))"
   ]
  },
  {
   "cell_type": "markdown",
   "metadata": {},
   "source": [
    "Write List comprehensions to produce the following Lists\n",
    "['A', 'C', 'A', 'D', 'G', 'I', ’L’, ‘ D’]"
   ]
  },
  {
   "cell_type": "code",
   "execution_count": 9,
   "metadata": {},
   "outputs": [
    {
     "name": "stdout",
     "output_type": "stream",
     "text": [
      "['A', 'C', 'A', 'D', 'G', 'I', 'L', 'D']\n"
     ]
    }
   ],
   "source": [
    "comp_list = [letter for letter in \"ACADGILD\"]\n",
    "print(comp_list)"
   ]
  },
  {
   "cell_type": "markdown",
   "metadata": {},
   "source": [
    "Write List comprehensions to produce the following Lists\n",
    "['x', 'xx', 'xxx', 'xxxx', 'y', 'yy', 'yyy', 'yyyy', 'z', 'zz', 'zzz', 'zzzz']"
   ]
  },
  {
   "cell_type": "code",
   "execution_count": 10,
   "metadata": {},
   "outputs": [
    {
     "name": "stdout",
     "output_type": "stream",
     "text": [
      "['x', 'xx', 'xxx', 'xxxx', 'y', 'yy', 'yyy', 'yyyy', 'z', 'zz', 'zzz', 'zzzz']\n"
     ]
    }
   ],
   "source": [
    "word_list = ['x', 'y', 'z']\n",
    "result = [item*num for item in word_list for num in range(1,5)]\n",
    "print(result)"
   ]
  },
  {
   "cell_type": "markdown",
   "metadata": {},
   "source": [
    "Write List comprehensions to produce the following Lists\n",
    "['x', 'y', 'z', 'xx', 'yy', 'zz', 'xx', 'yy', 'zz', 'xxxx', 'yyyy', 'zzzz']"
   ]
  },
  {
   "cell_type": "code",
   "execution_count": 11,
   "metadata": {},
   "outputs": [
    {
     "name": "stdout",
     "output_type": "stream",
     "text": [
      "['x', 'y', 'z', 'xx', 'yy', 'zz', 'xxx', 'yyy', 'zzz', 'xxxx', 'yyyy', 'zzzz']\n"
     ]
    }
   ],
   "source": [
    "input_list = ['x', 'y', 'z']\n",
    "result = [item*num for num in range(1,5) for item in input_list]\n",
    "print(result)"
   ]
  },
  {
   "cell_type": "markdown",
   "metadata": {},
   "source": [
    "Write List comprehensions to produce the following Lists\n",
    "[[2], [3], [4], [3], [4], [5], [4], [5], [6]]"
   ]
  },
  {
   "cell_type": "code",
   "execution_count": 12,
   "metadata": {},
   "outputs": [
    {
     "name": "stdout",
     "output_type": "stream",
     "text": [
      "[[2], [3], [4], [3], [4], [5], [4], [5], [6]]\n"
     ]
    }
   ],
   "source": [
    "num_list = [2,3,4]\n",
    "result = [[item+num] for item in num_list for num in range(0,3)]\n",
    "print(result)"
   ]
  },
  {
   "cell_type": "markdown",
   "metadata": {},
   "source": [
    "Write List comprehensions to produce the following Lists\n",
    "[[2, 3, 4, 5], [3, 4, 5, 6], [4, 5, 6, 7], [5, 6, 7, 8]]"
   ]
  },
  {
   "cell_type": "code",
   "execution_count": 13,
   "metadata": {},
   "outputs": [
    {
     "name": "stdout",
     "output_type": "stream",
     "text": [
      "[[2, 3, 4, 5], [3, 4, 5, 6], [4, 5, 6, 7], [5, 6, 7, 8]]\n"
     ]
    }
   ],
   "source": [
    "num_list = [2,3,4,5]\n",
    "result = [[item+num for  item in num_list] for num in range(0,4)]\n",
    "#result = [ [item+num for item in input_list] for num in range(0,4)  ]\n",
    "print(result)"
   ]
  },
  {
   "cell_type": "markdown",
   "metadata": {},
   "source": [
    "Write List comprehensions to produce the following Lists\n",
    "[(1, 1), (2, 1), (3, 1), (1, 2), (2, 2), (3, 2), (1, 3), (2, 3), (3, 3)]"
   ]
  },
  {
   "cell_type": "code",
   "execution_count": 14,
   "metadata": {},
   "outputs": [
    {
     "name": "stdout",
     "output_type": "stream",
     "text": [
      "[(1, 1), (1, 2), (1, 3), (2, 1), (2, 2), (2, 3), (3, 1), (3, 2), (3, 3)]\n"
     ]
    }
   ],
   "source": [
    "input_list = [1,2,3]\n",
    "result = [(b,a) for b in input_list for a in input_list]\n",
    "print(result)"
   ]
  },
  {
   "cell_type": "markdown",
   "metadata": {},
   "source": [
    "3. Implement a function longestWord() that takes a list of words and returns the longest one."
   ]
  },
  {
   "cell_type": "code",
   "execution_count": 17,
   "metadata": {},
   "outputs": [
    {
     "name": "stdout",
     "output_type": "stream",
     "text": [
      "abracadabra\n",
      "Please input the list of words: amrica,india,portugal,brazil,srilanka,bangladesh,argentina\n"
     ]
    },
    {
     "data": {
      "text/plain": [
       "'bangladesh'"
      ]
     },
     "execution_count": 17,
     "metadata": {},
     "output_type": "execute_result"
    }
   ],
   "source": [
    "#defination of the function\n",
    "def find_longest_word(word_list):\n",
    "    len_0 = len(word_list[0])\n",
    "    pos = 0\n",
    "    for item in range(0,len(word_list)):\n",
    "        if(len(word_list[item]) >= len_0):\n",
    "            pos = item\n",
    "            len_0 = len(word_list[item])\n",
    "    return word_list[pos]\n",
    "\n",
    "#test the function\n",
    "print(find_longest_word([\"PHP\", \"Exercises\", \"Backend\", \"abracadabra\",\"v\",\"india\",\"kolkata\",\"hyderabad\",\"bangalore\"]))\n",
    "#please enter a list of words ',' separated\n",
    "input_list = input(\"Please input the list of words: \").split(',')\n",
    "find_longest_word(input_list)\n"
   ]
  }
 ],
 "metadata": {
  "kernelspec": {
   "display_name": "Python 3",
   "language": "python",
   "name": "python3"
  },
  "language_info": {
   "codemirror_mode": {
    "name": "ipython",
    "version": 3
   },
   "file_extension": ".py",
   "mimetype": "text/x-python",
   "name": "python",
   "nbconvert_exporter": "python",
   "pygments_lexer": "ipython3",
   "version": "3.6.5"
  }
 },
 "nbformat": 4,
 "nbformat_minor": 2
}
